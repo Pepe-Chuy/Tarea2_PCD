{
 "cells": [
  {
   "cell_type": "markdown",
   "metadata": {},
   "source": [
    "# Tarea 2: Trabajando con Github \n",
    "\n",
    "- José de Jesús Carbajal Castellanos\n",
    "- Data Science Project Course\n",
    "\n",
    "What is MLOps?\n",
    "MLOps is a set of practices that lead a machine learning model to its end-to-end lifecycle, starting by its development and finishing with its constant monitoring and maintenance, this assures that the models are implemented and used optimally in the production enviroment\n",
    "\n",
    "WHat is Deploying?\n",
    "Deploying refers to the process of making a ml model to be available in the production enviroment, to be monitored and retrained as needed\n",
    "\n",
    "![lifecycle](https://d2908q01vomqb2.cloudfront.net/f1f836cb4ea6efb2a0b1b99f41ad8b103eff4b59/2021/02/22/1-Workflow-1.jpg)\n",
    "\n",
    "The final aim of the MLOps is to make the whole process of the model automated, ALL of it, cleaning, data prep, feature engineering, train and test, deploying and monitoring, that way we assure the model workflow a good automatization so we can reduce human intervention and reduce errors  \n",
    "\n",
    "This way we give our implementation, Reproducibility, Continous integration and deployement, faster timelines, cost savings and improved governance and compliance\n",
    "\n",
    "Models can be clasified by their maturity in 5 levels\n",
    "\n",
    "1. No MlOps: Just machine learning modeling handcrafted without any process to deploy it automatically  \n",
    "\n",
    "2. DevOps but no MLOps: automated builds and tests for application code  \n",
    "\n",
    "3. Automated Training: automated training and the model is centralized  \n",
    "\n",
    "4. Automated Model Deployment: The model tracking is centralized and has automated tests  \n",
    "\n",
    "5. Full MLOps Automated Operations: every aspect of the model is automated and cenntralized\n",
    "\n",
    "So we could say that the MLOps are the DEVops but for Machine Learning models instead of software systems and sometimes MLOps is considered an extension of DEVops\n",
    "\n",
    "as depicted below\n",
    "![pipeline](https://miro.medium.com/v2/resize:fit:1100/format:webp/1*XgF7TCxVVQDZCBCZ7ZXdvQ.png)\n",
    "\n",
    "\n",
    "We can conclude that the best case is to always aim to the fully automated pipeline for our model to be efficient and fully functional, also I got a better insight on deployment for future lessons"
   ]
  }
 ],
 "metadata": {
  "language_info": {
   "name": "python"
  }
 },
 "nbformat": 4,
 "nbformat_minor": 2
}
